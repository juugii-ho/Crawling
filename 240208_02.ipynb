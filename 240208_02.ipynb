{
 "cells": [
  {
   "cell_type": "code",
   "execution_count": 1,
   "metadata": {},
   "outputs": [
    {
     "name": "stdout",
     "output_type": "stream",
     "text": [
      "None\n",
      "<re.Match object; span=(7, 12), match='apple'>\n"
     ]
    }
   ],
   "source": [
    "import re\n",
    "\n",
    "m = re.match('[a-z]+', 'Python')\n",
    "print(m)\n",
    "print(re.search('apple', 'I like apple!'))"
   ]
  },
  {
   "cell_type": "code",
   "execution_count": 2,
   "metadata": {},
   "outputs": [
    {
     "name": "stdout",
     "output_type": "stream",
     "text": [
      "<re.Match object; span=(0, 6), match='python'>\n",
      "<re.Match object; span=(2, 6), match='like'>\n"
     ]
    }
   ],
   "source": [
    "p = re.compile('[a-z]+')\n",
    "m = p.match('python')\n",
    "print(m)\n",
    "print(p.search('I like apple 123'))"
   ]
  },
  {
   "cell_type": "code",
   "execution_count": 3,
   "metadata": {},
   "outputs": [
    {
     "name": "stdout",
     "output_type": "stream",
     "text": [
      "<re.Match object; span=(0, 5), match='pytho'>\n"
     ]
    }
   ],
   "source": [
    "m = re.match('[a-z]+', 'pythoN')\n",
    "print(m)"
   ]
  },
  {
   "cell_type": "code",
   "execution_count": 4,
   "metadata": {},
   "outputs": [
    {
     "name": "stdout",
     "output_type": "stream",
     "text": [
      "None\n"
     ]
    }
   ],
   "source": [
    "m = re.match('[a-z]+', 'PYthon')\n",
    "print(m)"
   ]
  },
  {
   "cell_type": "code",
   "execution_count": 5,
   "metadata": {},
   "outputs": [
    {
     "name": "stdout",
     "output_type": "stream",
     "text": [
      "<re.Match object; span=(0, 5), match='regex'>\n",
      "None\n",
      "<re.Match object; span=(0, 10), match='regexpytho'>\n",
      "None\n",
      "<re.Match object; span=(0, 5), match='regex'>\n",
      "<re.Match object; span=(0, 11), match='regexpython'>\n"
     ]
    }
   ],
   "source": [
    "print(re.match('[a-z]+', 'regex python'))\n",
    "print(re.match('[a-z]+', ' regexpython'))\n",
    "\n",
    "print(re.match('[a-z]+', 'regexpythoN'))\n",
    "print(re.match('[a-z]+$', 'regexpythoN'))\n",
    "\n",
    "print(re.match('[a-z]+', 'regexPython'))\n",
    "print(re.match('[a-z]+$', 'regexpython'))"
   ]
  },
  {
   "cell_type": "code",
   "execution_count": 6,
   "metadata": {},
   "outputs": [
    {
     "name": "stdout",
     "output_type": "stream",
     "text": [
      "['life', 'is', 'too', 'short', 'egular', 'expression', 'test']\n"
     ]
    }
   ],
   "source": [
    "p = re.compile('[a-z]+')\n",
    "print(p.findall('life is too short! Regular expression test'))"
   ]
  },
  {
   "cell_type": "code",
   "execution_count": 7,
   "metadata": {},
   "outputs": [
    {
     "name": "stdout",
     "output_type": "stream",
     "text": [
      "<re.Match object; span=(2, 6), match='like'>\n",
      "like\n",
      "['like', 'apple']\n"
     ]
    }
   ],
   "source": [
    "result = p.search('I like apple 123')\n",
    "print(result)\n",
    "print(result.group())\n",
    "\n",
    "result = p.findall('I like apple 123')\n",
    "print(result)"
   ]
  },
  {
   "cell_type": "code",
   "execution_count": 11,
   "metadata": {},
   "outputs": [
    {
     "name": "stdout",
     "output_type": "stream",
     "text": [
      "02-123-4567\n",
      "None\n",
      "None\n"
     ]
    }
   ],
   "source": [
    "import re\n",
    "tel_checker = re.compile('^(\\d{2,3})-(\\d{3,4})-(\\d{4})$')\n",
    "\n",
    "print(tel_checker.match('02-123-4567').group())\n",
    "print(tel_checker.match('053-950-45678'))\n",
    "print(tel_checker.match('053950-4567'))"
   ]
  },
  {
   "cell_type": "code",
   "execution_count": 15,
   "metadata": {},
   "outputs": [
    {
     "name": "stdout",
     "output_type": "stream",
     "text": [
      "0539504567\n",
      "<re.Match object; span=(0, 10), match='0539504567'>\n",
      "<re.Match object; span=(0, 10), match='0239501234'>\n"
     ]
    }
   ],
   "source": [
    "tel_number = '053-950-4567'\n",
    "tel_number = tel_number.replace('-','')\n",
    "print(tel_number)\n",
    "\n",
    "tel_checker1 = re.compile('^(\\d{2,3})(\\d{3,4})(\\d{4})$')\n",
    "print(tel_checker1.match(tel_number))\n",
    "print(tel_checker1.match('0239501234'))"
   ]
  },
  {
   "cell_type": "code",
   "execution_count": 16,
   "metadata": {},
   "outputs": [
    {
     "name": "stdout",
     "output_type": "stream",
     "text": [
      "('02', '123', '4567')\n",
      "group():  02-123-4567\n",
      "group(0):  02-123-4567\n",
      "group(1):  02\n",
      "group(2,3):  ('123', '4567')\n",
      "start():  0\n",
      "end():  11\n"
     ]
    }
   ],
   "source": [
    "m = tel_checker.match('02-123-4567')\n",
    "print(m.groups())\n",
    "print('group(): ', m.group())\n",
    "print('group(0): ', m.group(0))\n",
    "print('group(1): ', m.group(1))\n",
    "print('group(2,3): ', m.group(2,3))\n",
    "print('start(): ', m.start())\n",
    "print('end(): ', m.end())"
   ]
  },
  {
   "cell_type": "code",
   "execution_count": null,
   "metadata": {},
   "outputs": [],
   "source": []
  }
 ],
 "metadata": {
  "kernelspec": {
   "display_name": "My_38",
   "language": "python",
   "name": "python3"
  },
  "language_info": {
   "codemirror_mode": {
    "name": "ipython",
    "version": 3
   },
   "file_extension": ".py",
   "mimetype": "text/x-python",
   "name": "python",
   "nbconvert_exporter": "python",
   "pygments_lexer": "ipython3",
   "version": "3.8.18"
  }
 },
 "nbformat": 4,
 "nbformat_minor": 2
}
